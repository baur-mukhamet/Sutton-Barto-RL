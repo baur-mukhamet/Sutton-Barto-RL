{
 "cells": [
  {
   "cell_type": "markdown",
   "metadata": {},
   "source": [
    "# Exercise 6.10: Stochastic Wind Gridworld"
   ]
  },
  {
   "cell_type": "markdown",
   "metadata": {},
   "source": [
    "Now we consider stochastic wind. With probability p = 1/3 the wind is wind_mean, as indicated in the world map for each column. And with probabilities 1/3 it is either wind_mean + 1 or wind_mean - 1.\n",
    "\n",
    "The main significant difference in the implementation is in sarsa method with StochasticWindWorld class. Namely, when we compute the next state. Another difference is in generating episodes from the trained greedy policy."
   ]
  },
  {
   "cell_type": "code",
   "execution_count": 2,
   "metadata": {},
   "outputs": [],
   "source": [
    "import numpy as np\n",
    "from matplotlib import pyplot as plt\n",
    "from tqdm.notebook import tqdm"
   ]
  },
  {
   "cell_type": "code",
   "execution_count": 3,
   "metadata": {},
   "outputs": [],
   "source": [
    "np.random.seed(42)"
   ]
  },
  {
   "cell_type": "code",
   "execution_count": 4,
   "metadata": {},
   "outputs": [],
   "source": [
    "def create_world():\n",
    "    w = np.zeros((7,10), dtype=int)\n",
    "\n",
    "    # Add winds \n",
    "    w[:, 0:3] = 0\n",
    "    w[:, 3:6] = 1\n",
    "    w[:, 6:8] = 2\n",
    "    w[:, 8]   = 1\n",
    "    w[:, 9]   = 0 \n",
    "    \n",
    "    return w"
   ]
  },
  {
   "cell_type": "code",
   "execution_count": 5,
   "metadata": {},
   "outputs": [
    {
     "data": {
      "image/png": "[encoded data removed]",
      "text/plain": [
       "<Figure size 640x480 with 1 Axes>"
      ]
     },
     "metadata": {},
     "output_type": "display_data"
    }
   ],
   "source": [
    "w = create_world()\n",
    "plt.imshow(w)\n",
    "plt.show()"
   ]
  },
  {
   "cell_type": "code",
   "execution_count": 29,
   "metadata": {},
   "outputs": [],
   "source": [
    "class StochasticWindWorld:\n",
    "\n",
    "    HUMAN = 10\n",
    "\n",
    "\n",
    "    def __init__(self, world, Q_ave = 0, sigma = 1, include_no_move_action = False):\n",
    "        \n",
    "        self.world = world\n",
    "        self.shape = world.shape\n",
    "        self.H, self.L = self.shape[0], self.shape[1]\n",
    "\n",
    "        self.start = (3,0)\n",
    "        self.goal = (3,7)\n",
    "        \n",
    "        self.no_move = include_no_move_action\n",
    "        self.nA = 8   # number of actions\n",
    "\n",
    "        if self.no_move:\n",
    "            self.nA += 1\n",
    "\n",
    "        self.S_A_shape = self.shape + (self.nA,)\n",
    "\n",
    "        self.action_to_dir = {0: (0,1),\n",
    "                              1: (0,-1),\n",
    "                              2: (1,0),\n",
    "                              3: (-1,0),\n",
    "                              4: (1,1),\n",
    "                              5: (1,-1),\n",
    "                              6: (-1,1),\n",
    "                              7: (-1,-1),\n",
    "                                }\n",
    "        if self.no_move:\n",
    "            self.action_to_dir[8] = (0,0)\n",
    "\n",
    "        self.dir_to_action = {v:k for k,v in self.action_to_dir.items()}\n",
    "        self.allowed_actions = {(x,y): self.get_allowed_actions((x,y)) for x in range(self.H) for y in range(self.L)} # allowed actions for a given state\n",
    "\n",
    "\n",
    "        self.Q = self.Q_init(Q_ave, sigma)\n",
    "        self.pi_greedy = np.argmax(self.Q, axis=-1)\n",
    "\n",
    "        self.state = None # (x,y) - position on the grid\n",
    "\n",
    "    \n",
    "    def Q_init(self, Q_ave, sigma):\n",
    "\n",
    "        Q = Q_ave + sigma*np.random.randn(*self.S_A_shape)\n",
    "        \n",
    "        # Set value of the Goal state to zero\n",
    "        Q[self.goal] = 0\n",
    "\n",
    "        # Maks disallowed actions at the borders of the world\n",
    "\n",
    "        for x in range(self.shape[0]):\n",
    "            for y in range(self.shape[1]):\n",
    "                state = (x,y)\n",
    "                allowed_actions = self.allowed_actions[state]\n",
    "\n",
    "                for a in range(8):\n",
    "                    if a not in allowed_actions:\n",
    "                        Q[state + (a,)] = float('-inf')\n",
    "\n",
    "        return Q\n",
    "    \n",
    "\n",
    "    def get_allowed_actions(self, state):\n",
    "\n",
    "        x,y  = state\n",
    "        H, L = self.shape\n",
    "\n",
    "        allowed_actions = []\n",
    "\n",
    "        for dx in range(-1,2):\n",
    "            for dy in range(-1,2):\n",
    "                x_next, y_next = x + dx, y + dy\n",
    "                if (x_next, y_next) != (x,y) and 0 <= x_next < H and 0 <= y_next < L:\n",
    "                    allowed_actions.append(self.dir_to_action[(dx,dy)])\n",
    "        \n",
    "        if self.no_move:\n",
    "            allowed_actions.append(self.dir_to_action[(0,0)])\n",
    "        \n",
    "        return allowed_actions\n",
    "\n",
    "    \n",
    "\n",
    "    def eps_greedy(self, state, eps):\n",
    "\n",
    "        p = np.random.rand()\n",
    "\n",
    "        if p > eps:\n",
    "            return self.pi_greedy[state]\n",
    "        \n",
    "        \n",
    "        allowed_actions = self.allowed_actions[state]\n",
    "        return np.random.choice(allowed_actions)\n",
    "    \n",
    "        \n",
    "    def reset(self):\n",
    "        self.state = self.start\n",
    "\n",
    "    \n",
    "    def sarsa(self, n_episodes, alpha, eps):\n",
    "\n",
    "\n",
    "        curr_time_step = 0\n",
    "        logs = [curr_time_step]  # current time at the end of each episode\n",
    "\n",
    "        for i in tqdm(range(n_episodes)):\n",
    "\n",
    "            self.reset()\n",
    "            tot_reward = 0\n",
    "            action = self.eps_greedy(self.state, eps)\n",
    "\n",
    "\n",
    "            while self.state != self.goal:\n",
    "\n",
    "                dx, dy = self.action_to_dir[action]\n",
    "                tot_reward -= 1\n",
    "\n",
    "                \n",
    "                # Last term is the wind in negative x direction (upward). \n",
    "                # Include stochastic wind\n",
    "                noise = np.random.randint(-1,2)\n",
    "                \n",
    "                x_next = self.state[0] + dx - self.world[self.state] + noise\n",
    "\n",
    "                # Clip from both sides, since the wind can be in both directions.\n",
    "                x_next = max(0, x_next)\n",
    "                x_next = min(self.H-1, x_next)\n",
    "\n",
    "                y_next = self.state[1] + dy\n",
    "                \n",
    "                next_state = (x_next, y_next)\n",
    "                next_action = self.eps_greedy(next_state, eps)\n",
    "\n",
    "              \n",
    "                self.Q[self.state + (action,)] += alpha * (-1 + self.Q[next_state + (next_action,)] - self.Q[self.state + (action,)] )\n",
    "                self.pi_greedy[self.state] = np.argmax(self.Q[self.state])\n",
    "\n",
    "                self.state = next_state\n",
    "                action = next_action\n",
    "\n",
    "                curr_time_step += 1\n",
    "                \n",
    "            \n",
    "            logs.append(curr_time_step)\n",
    "        \n",
    "        \n",
    "        return logs \n",
    "    \n",
    "\n",
    "    def generate_greedy_episode(self, render = True):\n",
    "\n",
    "        self.reset()\n",
    "        tot_reward = 0\n",
    "        # action = self.pi_greedy[self.state]\n",
    "\n",
    "        path = [self.state]\n",
    "\n",
    "        while self.state != self.goal:\n",
    "\n",
    "            # Get action\n",
    "            action = self.pi_greedy[self.state]\n",
    "            dx, dy = self.action_to_dir[action]\n",
    "\n",
    "            # Get reward\n",
    "            tot_reward -= 1\n",
    "\n",
    "            # Next state\n",
    "            x_next = self.state[0] + dx - self.world[self.state] + np.random.randint(-1,2)\n",
    "\n",
    "            # Clip from both sides, since the wind can be in both directions.\n",
    "            x_next = max(0, x_next)\n",
    "            x_next = min(self.H-1, x_next)\n",
    "              \n",
    "            y_next = self.state[1] + dy\n",
    "            \n",
    "            self.state = (x_next, y_next)\n",
    "            path.append(self.state)\n",
    "\n",
    "        \n",
    "        if render:\n",
    "            \n",
    "            print(f\"Goal reached in {len(path)-1} steps.\")\n",
    "\n",
    "            world_map = self.world.copy()\n",
    "            \n",
    "            for state in path:\n",
    "                world_map[state] = self.HUMAN\n",
    "\n",
    "            plt.imshow(world_map)\n",
    "            plt.show()\n"
   ]
  },
  {
   "cell_type": "code",
   "execution_count": 30,
   "metadata": {},
   "outputs": [],
   "source": [
    "g = StochasticWindWorld(w)"
   ]
  },
  {
   "cell_type": "code",
   "execution_count": 31,
   "metadata": {},
   "outputs": [
    {
     "data": {
      "application/vnd.jupyter.widget-view+json": {
       "model_id": "3ec6400738eb4e868c1c1f913aa24d39",
       "version_major": 2,
       "version_minor": 0
      },
      "text/plain": [
       "  0%|          | 0/500 [00:00<?, ?it/s]"
      ]
     },
     "metadata": {},
     "output_type": "display_data"
    }
   ],
   "source": [
    "logs = g.sarsa(n_episodes = 500, alpha = 0.5, eps = 0.1)"
   ]
  },
  {
   "cell_type": "code",
   "execution_count": 32,
   "metadata": {},
   "outputs": [
    {
     "data": {
      "image/png": "[encoded data removed]",
      "text/plain": [
       "<Figure size 640x480 with 1 Axes>"
      ]
     },
     "metadata": {},
     "output_type": "display_data"
    }
   ],
   "source": [
    "plt.plot(logs, range(len(logs)))\n",
    "plt.show()"
   ]
  },
  {
   "cell_type": "markdown",
   "metadata": {},
   "source": [
    "Now let's generate several episodes with stochastic wind, using the trained greedy policy."
   ]
  },
  {
   "cell_type": "code",
   "execution_count": 45,
   "metadata": {},
   "outputs": [
    {
     "name": "stdout",
     "output_type": "stream",
     "text": [
      "Goal reached in 22 steps.\n"
     ]
    },
    {
     "data": {
      "image/png": "[encoded data removed]",
      "text/plain": [
       "<Figure size 640x480 with 1 Axes>"
      ]
     },
     "metadata": {},
     "output_type": "display_data"
    },
    {
     "name": "stdout",
     "output_type": "stream",
     "text": [
      "Goal reached in 37 steps.\n"
     ]
    },
    {
     "data": {
      "image/png": "[encoded data removed]",
      "text/plain": [
       "<Figure size 640x480 with 1 Axes>"
      ]
     },
     "metadata": {},
     "output_type": "display_data"
    },
    {
     "name": "stdout",
     "output_type": "stream",
     "text": [
      "Goal reached in 18 steps.\n"
     ]
    },
    {
     "data": {
      "image/png": "[encoded data removed]",
      "text/plain": [
       "<Figure size 640x480 with 1 Axes>"
      ]
     },
     "metadata": {},
     "output_type": "display_data"
    },
    {
     "name": "stdout",
     "output_type": "stream",
     "text": [
      "Goal reached in 7 steps.\n"
     ]
    },
    {
     "data": {
      "image/png": "[encoded data removed]",
      "text/plain": [
       "<Figure size 640x480 with 1 Axes>"
      ]
     },
     "metadata": {},
     "output_type": "display_data"
    }
   ],
   "source": [
    "for i in range(4):\n",
    "    g.generate_greedy_episode()"
   ]
  },
  {
   "cell_type": "markdown",
   "metadata": {},
   "source": [
    "We get a wide range of paths, some are long some are short."
   ]
  },
  {
   "cell_type": "markdown",
   "metadata": {},
   "source": []
  }
 ],
 "metadata": {
  "kernelspec": {
   "display_name": "Python 3",
   "language": "python",
   "name": "python3"
  },
  "language_info": {
   "codemirror_mode": {
    "name": "ipython",
    "version": 3
   },
   "file_extension": ".py",
   "mimetype": "text/x-python",
   "name": "python",
   "nbconvert_exporter": "python",
   "pygments_lexer": "ipython3",
   "version": "3.11.3"
  }
 },
 "nbformat": 4,
 "nbformat_minor": 2
}
