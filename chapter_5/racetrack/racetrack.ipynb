{
 "cells": [
  {
   "cell_type": "markdown",
   "metadata": {},
   "source": [
    "## Racetrack (Exersice 5.12)"
   ]
  },
  {
   "cell_type": "markdown",
   "metadata": {},
   "source": [
    "The state space and action space and rewards are\n",
    "\n",
    "\\begin{align}\n",
    "S &= \\{ (x,y,v_x, v_y) \\quad | \\quad (x,y) \\in \\text{track}, 0 \\leq v_{x,y} \\leq 4 \\} \\\\\n",
    "{\\cal A}(s = (x,y,v_x, v_y)) &= \\{ (a_x, a_y) \\quad | \\quad a_{x,y} = 0, \\pm 1 \\text{ and } v_{x,y} + a_{x,y} \\in S \\} \\\\\n",
    "R &= -1 \\quad \\text{at each step}\n",
    "\\end{align}\n",
    "\n",
    "Total velocity is zero $(v_x, v_y) = (0,0)$ only at the start line.\n",
    "\n"
   ]
  },
  {
   "cell_type": "code",
   "execution_count": 1,
   "metadata": {},
   "outputs": [],
   "source": [
    "import numpy as np\n",
    "import matplotlib.pyplot as plt\n",
    "from gymnasium import Env\n",
    "from tqdm.notebook import tqdm"
   ]
  },
  {
   "cell_type": "markdown",
   "metadata": {},
   "source": [
    "## Track shapes"
   ]
  },
  {
   "cell_type": "markdown",
   "metadata": {},
   "source": [
    "First, let's build the tracks"
   ]
  },
  {
   "cell_type": "code",
   "execution_count": 2,
   "metadata": {},
   "outputs": [],
   "source": [
    "GRAVEL = -1\n",
    "ROAD = 0\n",
    "START = 1\n",
    "FINISH = 2\n",
    "\n",
    "def build_track_1():\n",
    "\n",
    "    track = GRAVEL * np.ones((32,17))\n",
    "\n",
    "    track[0, 3:] = ROAD\n",
    "    track[1:3, 2:] = ROAD\n",
    "    track[3, 1:] = ROAD\n",
    "    track[4:6, :] = ROAD\n",
    "    track[6, :10] = ROAD\n",
    "    track[7:14, :9] = ROAD\n",
    "    track[14:22, 1:9] = ROAD\n",
    "    track[22:29, 2:9] = ROAD\n",
    "    track[29:, 3:9] = ROAD\n",
    "\n",
    "    track[-1, 3:9] = START\n",
    "    track[:6, -1] = FINISH\n",
    "\n",
    "    return track\n",
    "\n",
    "\n",
    "def build_track_2():\n",
    "\n",
    "    track = GRAVEL * np.ones((30,32))\n",
    "\n",
    "    track[0, 16:] = ROAD\n",
    "    track[1, 13:] = ROAD\n",
    "    track[2, 12:] = ROAD\n",
    "    track[3:7, 11:] = ROAD\n",
    "    track[7, 12:] = ROAD\n",
    "    track[8, 13:] = ROAD\n",
    "    track[9, 14:-2] = ROAD\n",
    "    track[10, 14:-5] = ROAD\n",
    "    track[11, 14:-6] = ROAD\n",
    "    track[12, 14:-8] = ROAD\n",
    "\n",
    "    for i in range(15):\n",
    "        track[13+i, 14-i:-9] = ROAD\n",
    "\n",
    "    track[-2:, :-9] = ROAD\n",
    "\n",
    "    track[-1, :-9] = START\n",
    "    track[:9, -1] = FINISH\n",
    "\n",
    "    return track\n",
    "\n",
    "def build_track():\n",
    "    return build_track_1(), build_track_2()"
   ]
  },
  {
   "cell_type": "code",
   "execution_count": 126,
   "metadata": {},
   "outputs": [],
   "source": [
    "track_1, track_2 = build_track()"
   ]
  },
  {
   "cell_type": "code",
   "execution_count": 127,
   "metadata": {},
   "outputs": [],
   "source": [
    "# Save track shapes \n",
    "\n",
    "with open('track_1.npy', 'wb') as f:\n",
    "    np.save(f, track_1)\n",
    "\n",
    "with open('track_2.npy', 'wb') as f:\n",
    "    np.save(f, track_2)"
   ]
  },
  {
   "cell_type": "code",
   "execution_count": 92,
   "metadata": {},
   "outputs": [],
   "source": [
    "with open('track_1.npy', 'rb') as f:\n",
    "    track_1 = np.load(f)\n",
    "with open('track_2.npy', 'rb') as f:\n",
    "    track_2 = np.load(f)"
   ]
  },
  {
   "cell_type": "code",
   "execution_count": 249,
   "metadata": {},
   "outputs": [
    {
     "data": {
      "image/png": "[encoded data removed]",
      "text/plain": [
       "<Figure size 640x480 with 1 Axes>"
      ]
     },
     "metadata": {},
     "output_type": "display_data"
    },
    {
     "data": {
      "image/png": "[encoded data removed]",
      "text/plain": [
       "<Figure size 640x480 with 1 Axes>"
      ]
     },
     "metadata": {},
     "output_type": "display_data"
    }
   ],
   "source": [
    "plt.imshow(track_1)\n",
    "plt.show()\n",
    "plt.imshow(track_2)\n",
    "plt.show()"
   ]
  },
  {
   "cell_type": "markdown",
   "metadata": {},
   "source": [
    "## Environment"
   ]
  },
  {
   "cell_type": "code",
   "execution_count": 254,
   "metadata": {},
   "outputs": [],
   "source": [
    "class RaceTrack(Env):\n",
    "\n",
    "    # Values in ndarray self.track below for corresponding parts of the track\n",
    "    GRAVEL = -1\n",
    "    ROAD = 0\n",
    "    START = 1\n",
    "    FINISH = 2\n",
    "\n",
    "    REWARD = -1\n",
    "    \n",
    "    # Speed limits: V_LOWER < v_{x,y} < V_UPPER\n",
    "    V_LOWER = 0\n",
    "    V_UPPER = 5\n",
    "\n",
    "    CAR = 5\n",
    "    \n",
    "\n",
    "    def __init__(self, track, Q_ave, Q_sigma):\n",
    "        \n",
    "        self.track = track\n",
    "        \n",
    "        self.start_idx = np.array(np.where(self.track == self.START)) # (2, s) shape; s - number of start positions. Each column is (x,y) coord of a start position.\n",
    "        self.finish_idx = np.array(np.where(self.track == self.FINISH)) # (2, f) shape: same for finish\n",
    "        \n",
    "        self.s = self.start_idx.shape[1]  # len of start line\n",
    "        self.f = self.finish_idx.shape[1] # len of finish line\n",
    "        \n",
    "        # Current state\n",
    "        self.state = None # tuple (x,y,vx,vy)\n",
    "\n",
    "        # Shape of state space S\n",
    "        self.nS = self.track.shape + (5,5) \n",
    "\n",
    "        # Action space (accelerations)\n",
    "        self.A = np.array([[ax,ay] for ay in range(-1,2) for ax in range(-1,2)]) # shape (9,2); 9 available actions\n",
    "        self.nA = (self.A.shape[0],) # = (9,)\n",
    "\n",
    "        # Precompute allowed actions and accelerations for given velocities (vx,vy)\n",
    "        self.allowed_accelerations = {(vx,vy): self.get_allowed_accelerations((0,0,vx,vy)) for vy in range(0,5) for vx in range(0,5)}\n",
    "        self.allowed_actions = {(vx,vy): self.get_allowed_actions((0,0,vx,vy)) for vy in range(0,5) for vx in range(0,5)}\n",
    "\n",
    "        # Init state-action value Q(s,a) and corresponding greedy policy\n",
    "        self.Q = self._init_Q(Q_ave, Q_sigma) # State-action value Q(s,a), shape self.nS + (5,5) + (9,)\n",
    "        self.pi = np.argmax(self.Q, axis=-1)\n",
    "    \n",
    "        self.terminated = False\n",
    "    \n",
    "    \n",
    "\n",
    "    def _init_Q(self, Q_ave = 0, sigma = 1):\n",
    "        '''\n",
    "        Init estimated state-action value function Q(s,a)\n",
    "        Shape - track.shape + (5,5) + (9,)\n",
    "        Unallowed states are masked by float('-inf)\n",
    "        '''\n",
    "        QA_shape = self.nS + (9,)\n",
    "        Q = Q_ave + sigma * np.random.randn(*QA_shape) # shape\n",
    "\n",
    "        # Mask unallowed accelerations that take velocity out of bounds. \n",
    "        # For example, if vx = 1, vy = 0, then accelerations ax = -1, ay = 0 are not allowed.\n",
    "        for vx in range(5):\n",
    "            for vy in range(5):\n",
    "                allowed_actions = self.allowed_actions[(vx,vy)]\n",
    "\n",
    "                for action in range(9):\n",
    "                    if action not in allowed_actions:\n",
    "                        Q[:,:,vx,vy,action] = float('-inf')\n",
    "\n",
    "        return Q\n",
    "\n",
    "    \n",
    "    def reset(self):\n",
    "        start = np.random.randint(0, self.s)\n",
    "        x,y = self.start_idx[:, start]\n",
    "        self.state = (x,y,0,0)\n",
    "\n",
    "\n",
    "    \n",
    "    def get_allowed_accelerations(self, state):\n",
    "        \"\"\"\n",
    "        Think of vx,vy as a (5,5) table. \n",
    "        The allowed transitions are by -1,0,1 for both vx and vy, except when final velocity is outside the table or is (0,0).\n",
    "        \"\"\"\n",
    "        allowed_accel = []\n",
    "\n",
    "        x,y,vx,vy = state\n",
    "\n",
    "        for ax in range(-1,2):\n",
    "            for ay in range(-1,2):\n",
    "                vx_new, vy_new = vx + ax, vy + ay\n",
    "\n",
    "                if (vx,vy, vx_new, vy_new) == (0,0, 0, 1):\n",
    "                    continue\n",
    "\n",
    "                if (vx_new, vy_new) != (0,0) and 0 <= vx_new < 5 and 0 <= vy_new < 5:\n",
    "                    allowed_accel.append([ax,ay])\n",
    "        \n",
    "        return np.array(allowed_accel)\n",
    "    \n",
    "\n",
    "    def get_allowed_actions(self, state):\n",
    "        allowed_actions = []\n",
    "\n",
    "        x,y,vx,vy = state\n",
    "        \n",
    "        for ax, ay in self.allowed_accelerations[(vx,vy)]:\n",
    "\n",
    "            matches = np.all(self.A == np.array([ax, ay]), axis = 1)\n",
    "            allowed_actions.append(np.where(matches)[0][0])\n",
    "        \n",
    "        return np.array(allowed_actions)\n",
    "\n",
    "    \n",
    "    def step(self, action, accel_malfunction = False):\n",
    "        '''\n",
    "        action - int in range(9)\n",
    "        '''\n",
    "        terminated = False\n",
    "\n",
    "        x,y,vx,vy = self.state\n",
    "        ax,ay = self.A[action]\n",
    "\n",
    "        if accel_malfunction == True:\n",
    "            p = np.random.rand()\n",
    "            if p <= 0.1:\n",
    "                ax, ay = 0, 0\n",
    "\n",
    "        vx_new = vx + ax\n",
    "        vy_new = vy + ay\n",
    "\n",
    "        x_new = x - vx_new  # Minus sign because moving up in the track, opposite to x coord.\n",
    "        y_new = y + vy_new\n",
    "\n",
    "        next_state = (x_new, y_new, vx_new, vy_new)\n",
    "\n",
    "        ran_out_of_track, terminated, finish_point = self._check_in_track(self.state, next_state)\n",
    "\n",
    "        if ran_out_of_track:\n",
    "            self.reset()\n",
    "        \n",
    "        elif not terminated:\n",
    "            self.state = next_state\n",
    "        \n",
    "        elif terminated:\n",
    "            self.state = finish_point + (vx_new, vy_new)\n",
    "\n",
    "\n",
    "        return terminated\n",
    "    \n",
    "        \n",
    "\n",
    "    def behavior_policy(self, target_policy, state, eps):\n",
    "        '''\n",
    "        Computes behavior policy for a particular state.\n",
    "        Out - eps-soft policy related to target_policy:\n",
    "        b(a|s) = 1-eps + eps/nA if a = a^* else eps/nA\n",
    "        Also outputs behavior policy probability for the chosen action. This is needed to compute importance sampling ratios.\n",
    "        '''\n",
    "        p = np.random.rand()\n",
    "        \n",
    "        x,y,vx,vy = state\n",
    "\n",
    "        allowed_actions = self.allowed_actions[(vx,vy)]\n",
    "        nA = len(allowed_actions)\n",
    "        \n",
    "        if p > eps:\n",
    "            action = target_policy[state]\n",
    "            b_a = 1-eps + eps/nA\n",
    "        \n",
    "        else:\n",
    "            action = np.random.choice(allowed_actions)\n",
    "            b_a = eps/nA\n",
    "\n",
    "        return action, b_a\n",
    "\n",
    "\n",
    "\n",
    "    def generate_episode(self, eps, accel_malfunction = False):\n",
    "        '''\n",
    "        Generate episode using behavior eps-soft policy\n",
    "        Out - [(R_0, S_0, A_0, b_0), ... , (R_{T-1}, S_{T-1}, A_{T-1}, b_{T-1}), (R_T, S_T, None, None)] \n",
    "        S_T - terminal state, b_i probability of action A_i.\n",
    "        '''\n",
    "\n",
    "        self.reset()\n",
    "\n",
    "        terminated = False\n",
    "        reward = 0\n",
    "\n",
    "        episode = []\n",
    "\n",
    "        while not terminated:\n",
    "\n",
    "            # Choose action\n",
    "            action, b_a = self.behavior_policy(self.pi, self.state, eps)\n",
    "\n",
    "            # Log\n",
    "            episode.append((reward, self.state, action, b_a))\n",
    "\n",
    "            # transition to next state\n",
    "            reward -= 1\n",
    "            terminated = self.step(action, accel_malfunction)\n",
    "\n",
    "        \n",
    "        # Log final reward and terminating state\n",
    "        episode.append((reward, self.state, None, None))\n",
    "            \n",
    "        return episode\n",
    "\n",
    "\n",
    "    def generate_target_policy_episode(self):\n",
    "        '''\n",
    "        Generate episode using target policy\n",
    "        Out - [(R_0, S_0, A_0), ... , (R_{T-1}, S_{T-1}, A_{T-1}), (R_T, S_T, None)] \n",
    "        S_T - terminal state\n",
    "        '''\n",
    "\n",
    "        self.reset()\n",
    "\n",
    "        terminated = False\n",
    "        reward = 0\n",
    "\n",
    "        episode = []\n",
    "\n",
    "  \n",
    "        while not terminated:\n",
    "\n",
    "            action = self.pi[self.state]\n",
    "            episode.append((reward, self.state, action))\n",
    "\n",
    "            # transition to next state\n",
    "            reward -= 1\n",
    "\n",
    "            terminated = self.step(action)\n",
    "\n",
    "            \n",
    "        episode.append((reward, self.state, None))\n",
    "            \n",
    "        return episode\n",
    "\n",
    "\n",
    "    \n",
    "    def MC_off_policy(self, n_episodes, eps = 0.1, accel_malfunction = False):\n",
    "        \n",
    "        # Init sum of importance sampling ratios C(s,a)\n",
    "        C = np.zeros(self.nS + self.nA)\n",
    "\n",
    "        rewards = []\n",
    "\n",
    "        for _ in tqdm(range(n_episodes)):\n",
    "\n",
    "            episode = self.generate_episode(eps, accel_malfunction) # 0, ..., T\n",
    "            rewards.append(episode[-1][0])\n",
    "\n",
    "            G = 0\n",
    "            W = 1\n",
    "\n",
    "            for t in reversed(range(len(episode) - 1)):\n",
    "                reward, state, action ,b_a = episode[t]\n",
    "                reward_next = episode[t+1][0]\n",
    "\n",
    "                G = G + reward_next\n",
    "                \n",
    "                q_a = state + (action,)\n",
    "                \n",
    "                C[q_a] += W\n",
    "                self.Q[q_a] += W * (G - self.Q[q_a]) / C[q_a] \n",
    "                self.pi[state] = np.argmax(self.Q[state])\n",
    "\n",
    "                # Exit inner loop and go to next episode, if action a_id in current episode has zero prob under target policy self.pi\n",
    "                if action != self.pi[state]:\n",
    "                    break\n",
    "\n",
    "                W /= b_a\n",
    "        \n",
    "        return rewards\n",
    "\n",
    "\n",
    "\n",
    "    def render(self, episode):\n",
    "        \n",
    "        path = self.track.copy()\n",
    "\n",
    "        for step in episode:\n",
    "            state = step[1][:2]\n",
    "            path[state] = self.CAR\n",
    "\n",
    "        plt.imshow(path)\n",
    "        plt.show()\n",
    "\n",
    "    \n",
    "########################################################################################\n",
    "    \n",
    "\n",
    "    def _check_in_track(self, state_0, state_1):\n",
    "\n",
    "        # assume x0 >= x1, y0 <= y1; x-axis up to down, y-axis left to right; consistent with matrix indices\n",
    "        \n",
    "        traj = RaceTrack.get_trajectory(state_0, state_1)\n",
    "\n",
    "        ran_out_of_track = False\n",
    "        finished = False\n",
    "\n",
    "        for x,y in traj:\n",
    "\n",
    "            if not (0 <= x < self.track.shape[0] and 0 <= y < self.track.shape[1]):\n",
    "                ran_out_of_track = True\n",
    "                return ran_out_of_track, finished, None\n",
    "        \n",
    "            elif self.track[x,y] == self.GRAVEL:\n",
    "                ran_out_of_track = True\n",
    "                return ran_out_of_track, finished, None\n",
    "            \n",
    "            elif self.track[x,y] == self.FINISH:\n",
    "                finished = True\n",
    "                finish_point = (x,y)\n",
    "                return ran_out_of_track, finished, finish_point\n",
    "                 \n",
    "        return ran_out_of_track, finished, None\n",
    "    \n",
    "\n",
    "\n",
    "\n",
    "\n",
    "    @staticmethod\n",
    "    def get_trajectory(state_0, state_1):\n",
    "        '''\n",
    "        Same as _get_trajectory, but coordinates now correspond to array indices and states:\n",
    "        -------> y\n",
    "        |\n",
    "        |\n",
    "        |\n",
    "        v\n",
    "        x\n",
    "\n",
    "        Assume x0 >= x1, y0 <= y1\n",
    "        '''\n",
    "        x0,y0,_,_ = state_0\n",
    "        x1,y1,_,_ = state_1\n",
    "\n",
    "        dx = x0 - x1\n",
    "        dy = y1 - y0\n",
    "        \n",
    "        error = 0\n",
    "        traj = [(x0,y0)]\n",
    "\n",
    "        # For slope <= 1\n",
    "        #print(x0, x1)\n",
    "        if dx <= dy:\n",
    "        \n",
    "            x_curr = x0\n",
    "            for y in range(y0+1, y1+1):\n",
    "                error += 2*dx\n",
    "\n",
    "                if error >= dy:\n",
    "                    x_curr -= 1\n",
    "                    error -= 2*dy\n",
    "                \n",
    "                traj.append((x_curr,y))\n",
    "\n",
    "            \n",
    "        else:\n",
    "            y_curr = y0\n",
    "            for x in range(x0-1, x1-1, -1):\n",
    "                error += 2*dy\n",
    "\n",
    "                if error >= dx:\n",
    "                    y_curr += 1\n",
    "                    error -= 2*dx\n",
    "                \n",
    "                traj.append((x,y_curr))\n",
    "            \n",
    "        return traj\n",
    "    \n",
    "\n",
    "\n",
    "\n",
    "########################################################################################\n",
    "\n",
    "    # The following is not needed for the current problem. It is Bresenham's algorithm with standard orientation of coordinates.\n",
    "\n",
    "\n",
    "    @staticmethod\n",
    "    def _get_trajectory(x0,y0,x1,y1):\n",
    "        \n",
    "        '''\n",
    "        Compute trajectory of pixels from (x0,y0) to (x1,y1) using Bresenham's line algorithm.\n",
    "        \n",
    "        Assumes x0<x1, y0<y1. \n",
    "\n",
    "        Note that coordinates x,y here are with x pointing right and y pointing up:\n",
    "        \n",
    "        y\n",
    "        ^\n",
    "        |\n",
    "        |\n",
    "        |\n",
    "        --------> x\n",
    "\n",
    "        unlike the coordinates used for indexing arrays and states. \n",
    "\n",
    "        For slope < 1:\n",
    "        Init y_curr = y0, error = 0\n",
    "        Iterate over x in range(x0, x1+1)\n",
    "        Update error += slope\n",
    "        If error >= 1/2, then y_curr + 1 is closer to the line. Therefore update y_curr += 1 and error -= 1.\n",
    "\n",
    "        Rescale everything by 2*(x1-x0) to use integer arithmetic.\n",
    "        '''\n",
    "\n",
    "        dx = x1 - x0\n",
    "        dy = y1 - y0\n",
    "        \n",
    "        error = 0\n",
    "        traj = [(x0,y0)]\n",
    "\n",
    "        # For slope <= 1\n",
    "        if dy <= dx:\n",
    "            \n",
    "            y_curr = y0\n",
    "            for x in range(x0+1, x1+1):\n",
    "                error += 2*dy\n",
    "\n",
    "                if error >= dx:\n",
    "                    y_curr += 1\n",
    "                    error -= 2*dx\n",
    "                \n",
    "                traj.append((x,y_curr))\n",
    "        else:\n",
    "            \n",
    "            x_curr = x0\n",
    "            for y in range(y0+1, y1+1):\n",
    "                error += 2*dx\n",
    "\n",
    "                if error >= dy:\n",
    "                    x_curr += 1\n",
    "                    error -= 2*dy\n",
    "                \n",
    "                traj.append((x_curr,y))\n",
    "\n",
    "        return traj\n",
    "\n",
    "\n",
    "\n",
    "\n"
   ]
  },
  {
   "cell_type": "markdown",
   "metadata": {},
   "source": [
    "# Monte-Carlo training, track 1"
   ]
  },
  {
   "cell_type": "markdown",
   "metadata": {},
   "source": [
    "Initialize the enivronement. We choose Q_ave = -50000 for the average state-action value. It is important to choose a sufficiently negative value. With small Q_ave training is excruciatingly slow.\n",
    "\n",
    "The explanation of this is presumably that if we assume small values of Q, then it is difficult to distinguish good policy from the initialization noise. While if we take very negtive initial values, then whenever we stumble on actions with bigger reward, the algorithm quickly learns that some actions are much better then others."
   ]
  },
  {
   "cell_type": "code",
   "execution_count": 212,
   "metadata": {},
   "outputs": [],
   "source": [
    "race = RaceTrack(track_1, Q_ave = -500000, Q_sigma = 1)"
   ]
  },
  {
   "cell_type": "code",
   "execution_count": null,
   "metadata": {},
   "outputs": [],
   "source": [
    "rewards = race.MC_off_policy(1000000, eps = 0.1)"
   ]
  },
  {
   "cell_type": "markdown",
   "metadata": {},
   "source": [
    "Rewards near the end of training are reasonably small"
   ]
  },
  {
   "cell_type": "code",
   "execution_count": 216,
   "metadata": {},
   "outputs": [
    {
     "data": {
      "text/plain": [
       "[-11, -24, -21, -13, -19, -12, -11, -26, -20, -39]"
      ]
     },
     "execution_count": 216,
     "metadata": {},
     "output_type": "execute_result"
    }
   ],
   "source": [
    "rewards[-10:]"
   ]
  },
  {
   "cell_type": "code",
   "execution_count": 277,
   "metadata": {},
   "outputs": [
    {
     "data": {
      "image/png": "[encoded data removed]",
      "text/plain": [
       "<Figure size 640x480 with 1 Axes>"
      ]
     },
     "metadata": {},
     "output_type": "display_data"
    }
   ],
   "source": [
    "plt.plot(list(range(len(rewards))), rewards)\n",
    "plt.xscale('log')\n",
    "plt.yscale('symlog')\n",
    "plt.show()"
   ]
  },
  {
   "cell_type": "markdown",
   "metadata": {},
   "source": [
    "Sample episodes generated with the trained deterministic target policy"
   ]
  },
  {
   "cell_type": "code",
   "execution_count": 243,
   "metadata": {},
   "outputs": [
    {
     "data": {
      "image/png": "[encoded data removed]",
      "text/plain": [
       "<Figure size 1000x500 with 5 Axes>"
      ]
     },
     "metadata": {},
     "output_type": "display_data"
    }
   ],
   "source": [
    "CAR = 5\n",
    "n_ep = 5\n",
    "\n",
    "plt.figure(figsize=(10, 5)) \n",
    "\n",
    "for i in range(1,n_ep+1):\n",
    "    ep = race.generate_target_policy_episode()\n",
    "    path = track_1.copy()\n",
    "    for step in ep:\n",
    "        state = step[1][:2]\n",
    "        path[state] = CAR\n",
    "    \n",
    "    plt.subplot(1, n_ep, i)  # 1 row, N columns, ith subplot\n",
    "    \n",
    "    plt.imshow(path)\n",
    "    plt.axis('off')  \n",
    "    \n",
    "plt.tight_layout()  \n",
    "plt.show()\n"
   ]
  },
  {
   "cell_type": "markdown",
   "metadata": {},
   "source": [
    "## Acceleration malfunction"
   ]
  },
  {
   "cell_type": "markdown",
   "metadata": {},
   "source": [
    "With probability 0.1 both accelerations are zero, independent of the intended acceleration chosen by the behavior policy. Target policy works as before."
   ]
  },
  {
   "cell_type": "code",
   "execution_count": 255,
   "metadata": {},
   "outputs": [],
   "source": [
    "race_mal = RaceTrack(track_1, Q_ave = -500000, Q_sigma = 1)"
   ]
  },
  {
   "cell_type": "code",
   "execution_count": null,
   "metadata": {},
   "outputs": [],
   "source": [
    "rewards_mal = race_mal.MC_off_policy(1000000, eps = 0.1, accel_malfunction = True)"
   ]
  },
  {
   "cell_type": "code",
   "execution_count": 273,
   "metadata": {},
   "outputs": [
    {
     "data": {
      "image/png": "[encoded data removed]",
      "text/plain": [
       "<Figure size 640x480 with 1 Axes>"
      ]
     },
     "metadata": {},
     "output_type": "display_data"
    }
   ],
   "source": [
    "plt.plot(list(range(len(rewards_mal))), rewards_mal)\n",
    "plt.xscale('log')\n",
    "# plt.yscale('symlog')\n",
    "plt.show()"
   ]
  },
  {
   "cell_type": "code",
   "execution_count": 260,
   "metadata": {},
   "outputs": [
    {
     "data": {
      "image/png": "[encoded data removed]",
      "text/plain": [
       "<Figure size 1000x500 with 5 Axes>"
      ]
     },
     "metadata": {},
     "output_type": "display_data"
    }
   ],
   "source": [
    "CAR = 5\n",
    "n_ep = 5\n",
    "\n",
    "plt.figure(figsize=(10, 5)) \n",
    "\n",
    "for i in range(1,n_ep+1):\n",
    "    ep = race_mal.generate_target_policy_episode()\n",
    "    path = track_1.copy()\n",
    "    for step in ep:\n",
    "        state = step[1][:2]\n",
    "        path[state] = CAR\n",
    "    \n",
    "    plt.subplot(1, n_ep, i)  # 1 row, N columns, ith subplot\n",
    "    \n",
    "    plt.imshow(path)\n",
    "    plt.axis('off')  \n",
    "    \n",
    "plt.tight_layout()  \n",
    "plt.show()"
   ]
  },
  {
   "cell_type": "markdown",
   "metadata": {},
   "source": [
    "# Monte-Carlo, track 2"
   ]
  },
  {
   "cell_type": "code",
   "execution_count": 229,
   "metadata": {},
   "outputs": [],
   "source": [
    "race_2 = RaceTrack(track_2, Q_ave = -500, Q_sigma = 1)"
   ]
  },
  {
   "cell_type": "code",
   "execution_count": null,
   "metadata": {},
   "outputs": [],
   "source": [
    "rewards_2 = race_2.MC_off_policy(1000000, eps = 0.1)"
   ]
  },
  {
   "cell_type": "code",
   "execution_count": 274,
   "metadata": {},
   "outputs": [
    {
     "data": {
      "image/png": "[encoded data removed]",
      "text/plain": [
       "<Figure size 640x480 with 1 Axes>"
      ]
     },
     "metadata": {},
     "output_type": "display_data"
    }
   ],
   "source": [
    "plt.plot(list(range(len(rewards_2))), rewards_2)\n",
    "plt.xscale('log')\n",
    "# plt.yscale('symlog')\n",
    "plt.show()"
   ]
  },
  {
   "cell_type": "code",
   "execution_count": 244,
   "metadata": {},
   "outputs": [
    {
     "data": {
      "image/png": "[encoded data removed]",
      "text/plain": [
       "<Figure size 1000x500 with 5 Axes>"
      ]
     },
     "metadata": {},
     "output_type": "display_data"
    }
   ],
   "source": [
    "CAR = 5\n",
    "n_ep = 5\n",
    "\n",
    "plt.figure(figsize=(10, 5)) \n",
    "\n",
    "for i in range(1,n_ep+1):\n",
    "    ep = race_2.generate_target_policy_episode()\n",
    "    path = track_2.copy()\n",
    "    for step in ep:\n",
    "        state = step[1][:2]\n",
    "        path[state] = CAR\n",
    "    \n",
    "    plt.subplot(1, n_ep, i)  # 1 row, N columns, ith subplot\n",
    "    \n",
    "    plt.imshow(path)\n",
    "    plt.axis('off')  \n",
    "    \n",
    "plt.tight_layout()  \n",
    "plt.show()"
   ]
  },
  {
   "cell_type": "markdown",
   "metadata": {},
   "source": [
    "## Acceleration malfunction"
   ]
  },
  {
   "cell_type": "code",
   "execution_count": 261,
   "metadata": {},
   "outputs": [],
   "source": [
    "race_mal_2 = RaceTrack(track_2, Q_ave = -500, Q_sigma = 1)"
   ]
  },
  {
   "cell_type": "code",
   "execution_count": null,
   "metadata": {},
   "outputs": [],
   "source": [
    "rewards_mal_2 = race_mal_2.MC_off_policy(1000000, eps = 0.1, accel_malfunction = True)"
   ]
  },
  {
   "cell_type": "code",
   "execution_count": 275,
   "metadata": {},
   "outputs": [
    {
     "data": {
      "image/png": "[encoded data removed]",
      "text/plain": [
       "<Figure size 640x480 with 1 Axes>"
      ]
     },
     "metadata": {},
     "output_type": "display_data"
    }
   ],
   "source": [
    "plt.plot(list(range(len(rewards_mal_2))), rewards_mal_2)\n",
    "plt.xscale('log')\n",
    "# plt.yscale('symlog')\n",
    "plt.show()"
   ]
  },
  {
   "cell_type": "code",
   "execution_count": 267,
   "metadata": {},
   "outputs": [
    {
     "data": {
      "image/png": "[encoded data removed]",
      "text/plain": [
       "<Figure size 1000x500 with 5 Axes>"
      ]
     },
     "metadata": {},
     "output_type": "display_data"
    }
   ],
   "source": [
    "CAR = 5\n",
    "n_ep = 5\n",
    "\n",
    "plt.figure(figsize=(10, 5)) \n",
    "\n",
    "for i in range(1,n_ep+1):\n",
    "    ep = race_mal_2.generate_target_policy_episode()\n",
    "    path = track_2.copy()\n",
    "    for step in ep:\n",
    "        state = step[1][:2]\n",
    "        path[state] = CAR\n",
    "    \n",
    "    plt.subplot(1, n_ep, i)  # 1 row, N columns, ith subplot\n",
    "    \n",
    "    plt.imshow(path)\n",
    "    plt.axis('off')  \n",
    "    \n",
    "plt.tight_layout()  \n",
    "plt.show()"
   ]
  },
  {
   "cell_type": "code",
   "execution_count": null,
   "metadata": {},
   "outputs": [],
   "source": []
  }
 ],
 "metadata": {
  "kernelspec": {
   "display_name": "base",
   "language": "python",
   "name": "python3"
  },
  "language_info": {
   "codemirror_mode": {
    "name": "ipython",
    "version": 3
   },
   "file_extension": ".py",
   "mimetype": "text/x-python",
   "name": "python",
   "nbconvert_exporter": "python",
   "pygments_lexer": "ipython3",
   "version": "3.11.3"
  }
 },
 "nbformat": 4,
 "nbformat_minor": 2
}
